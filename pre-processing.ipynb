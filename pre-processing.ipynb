{
 "cells": [
  {
   "cell_type": "code",
   "execution_count": 3,
   "id": "d3a97ece",
   "metadata": {},
   "outputs": [
    {
     "name": "stdout",
     "output_type": "stream",
     "text": [
      "Raw columns: ['cfres_id', 'product_res_number', 'event_date_initiated', 'event_date_posted', 'recall_status', 'event_date_terminated', 'res_event_number', 'product_code', 'k_numbers', 'product_description', 'code_info', 'recalling_firm', 'address_1', 'city', 'state', 'postal_code', 'additional_info_contact', 'reason_for_recall', 'root_cause_description', 'action', 'product_quantity', 'distribution_pattern', 'openfda.k_number', 'openfda.registration_number', 'openfda.fei_number', 'openfda.device_name', 'openfda.medical_specialty_description', 'openfda.regulation_number', 'openfda.device_class', 'firm_fei_number', 'other_submission_description', 'address_2', 'event_date_created', 'pma_numbers', 'openfda.pma_number']\n",
      "  cfres_id product_res_number event_date_initiated event_date_posted  \\\n",
      "0    30043          Z-0001-04           2003-10-27        2003-10-29   \n",
      "1    34578          Z-0001-05           2004-07-08        2004-10-05   \n",
      "2    41815          Z-0001-06           2005-09-13        2005-10-04   \n",
      "\n",
      "  recall_status event_date_terminated res_event_number product_code  \\\n",
      "0    Terminated            2004-03-24            27549        IZL--   \n",
      "1    Terminated            2004-10-05            29815          MGQ   \n",
      "2    Terminated            2005-12-30            33407          FXY   \n",
      "\n",
      "   k_numbers                                product_description  ...  \\\n",
      "0  [K020436]  Sedecal SP-HF 4.0 Portable X-Ray System; Manuf...  ...   \n",
      "1        NaN  Aquasorb  Border, Hydrogel Wound Dressing with...  ...   \n",
      "2  [K910515]  Stackhouse FreedomAire Lens/Hood; a sterile di...  ...   \n",
      "\n",
      "                                 openfda.device_name  \\\n",
      "0                                                NaN   \n",
      "1  Dressing, Wound And Burn, Hydrogel W/Drug And/...   \n",
      "2                                     Hood, Surgical   \n",
      "\n",
      "  openfda.medical_specialty_description openfda.regulation_number  \\\n",
      "0                                   NaN                       NaN   \n",
      "1                               Unknown                             \n",
      "2              General, Plastic Surgery                  878.4040   \n",
      "\n",
      "  openfda.device_class firm_fei_number other_submission_description address_2  \\\n",
      "0                  NaN             NaN                          NaN       NaN   \n",
      "1                    U             NaN                          NaN       NaN   \n",
      "2                    2             NaN                          NaN       NaN   \n",
      "\n",
      "  event_date_created pma_numbers openfda.pma_number  \n",
      "0                NaN         NaN                NaN  \n",
      "1                NaN         NaN                NaN  \n",
      "2                NaN         NaN                NaN  \n",
      "\n",
      "[3 rows x 35 columns]\n"
     ]
    }
   ],
   "source": [
    "import requests\n",
    "import pandas as pd\n",
    "\n",
    "# Fetch first 500 recall records\n",
    "url = \"https://api.fda.gov/device/recall.json?limit=500\"\n",
    "response = requests.get(url)\n",
    "data = response.json()\n",
    "\n",
    "# Convert JSON → DataFrame\n",
    "df_raw = pd.json_normalize(data[\"results\"])\n",
    "print(\"Raw columns:\", df_raw.columns.tolist())\n",
    "print(df_raw.head(3))\n",
    "\n",
    "df_raw.to_csv(\"raw_data.csv\", index=False)"
   ]
  },
  {
   "cell_type": "code",
   "execution_count": 5,
   "id": "9e575c9f",
   "metadata": {},
   "outputs": [
    {
     "name": "stdout",
     "output_type": "stream",
     "text": [
      "  Document_ID                                       Design_Input  \\\n",
      "0       30043  A minimum source-skin-distance of less than 30...   \n",
      "1       34578  Wound dressing failed to meet sterility specif...   \n",
      "2       41815  The packaging may be compromised such that ste...   \n",
      "3       46524  Weld defect- the weld between the post body an...   \n",
      "4       53825  Bio-logic System Corp Camera Pole may weaken a...   \n",
      "\n",
      "  Risk_Assessment Last_Reviewed  Compliance_Score  Critical_Issues  \n",
      "0             Low    2003-10-27             62.47                0  \n",
      "1             Low    2004-07-08             97.04                0  \n",
      "2             Low    2005-09-13             83.92                0  \n",
      "3             Low    2006-05-31             75.92                1  \n",
      "4             Low    2007-07-26             49.36                0  \n"
     ]
    }
   ],
   "source": [
    "\n",
    "import numpy as np\n",
    "\n",
    "# Select useful columns from your dataset\n",
    "df = df_raw[[\n",
    "    \"cfres_id\",\n",
    "    \"reason_for_recall\",\n",
    "    \"recall_status\",\n",
    "    \"event_date_initiated\"\n",
    "]].copy()\n",
    "\n",
    "# Rename to match your earlier schema\n",
    "df.rename(columns={\n",
    "    \"cfres_id\": \"Document_ID\",\n",
    "    \"reason_for_recall\": \"Design_Input\",\n",
    "    \"recall_status\": \"Risk_Assessment\",   # originally classification\n",
    "    \"event_date_initiated\": \"Last_Reviewed\"\n",
    "}, inplace=True)\n",
    "\n",
    "# Map risk levels (based on recall_status instead of classification)\n",
    "risk_map = {\n",
    "    \"Ongoing\": \"High\",\n",
    "    \"Completed\": \"Medium\",\n",
    "    \"Terminated\": \"Low\"\n",
    "}\n",
    "df[\"Risk_Assessment\"] = df[\"Risk_Assessment\"].map(risk_map)\n",
    "\n",
    "# Add compliance score (simulate since not available in dataset)\n",
    "np.random.seed(42)\n",
    "df[\"Compliance_Score\"] = np.random.uniform(40, 100, size=len(df)).round(2)\n",
    "\n",
    "# Extract critical issues (simple keyword search in reason_for_recall)\n",
    "def count_issues(text):\n",
    "    if pd.isna(text):\n",
    "        return 0\n",
    "    issues = [\"injury\", \"death\", \"contamination\", \"failure\", \"defect\"]\n",
    "    return sum(word in text.lower() for word in issues)\n",
    "\n",
    "df[\"Critical_Issues\"] = df[\"Design_Input\"].apply(count_issues)\n",
    "\n",
    "print(df.head())\n",
    "\n",
    "# Save as CSV\n",
    "df.to_csv(\"extracted_data.csv\", index=False)\n"
   ]
  },
  {
   "cell_type": "code",
   "execution_count": 10,
   "id": "81b365e1",
   "metadata": {},
   "outputs": [
    {
     "name": "stdout",
     "output_type": "stream",
     "text": [
      "Preprocessed dataset saved successfully!\n"
     ]
    }
   ],
   "source": [
    "\n",
    "# Clean and preprocess data\n",
    "\n",
    "# Make a copy to avoid chained assignment issues\n",
    "df_clean = df.copy()\n",
    "\n",
    "# Fill missing values\n",
    "df_clean[\"Design_Input\"] = df_clean[\"Design_Input\"].fillna(\"Unknown\")\n",
    "df_clean[\"Risk_Assessment\"] = df_clean[\"Risk_Assessment\"].fillna(\"Medium\")\n",
    "\n",
    "median_score = df_clean[\"Compliance_Score\"].median()\n",
    "df_clean[\"Compliance_Score\"] = df_clean[\"Compliance_Score\"].fillna(median_score)\n",
    "\n",
    "df_clean[\"Critical_Issues\"] = df_clean[\"Critical_Issues\"].fillna(0).astype(int)\n",
    "\n",
    "# Map Risk_Assessment to numeric for composite score\n",
    "risk_map = {\"Low\": 1, \"Medium\": 2, \"High\": 3}\n",
    "df_clean[\"Risk_Score\"] = df_clean[\"Risk_Assessment\"].map(risk_map)\n",
    "\n",
    "# Composite Compliance Score\n",
    "df_clean[\"Composite_Compliance_Score\"] = (\n",
    "    0.6 * df_clean[\"Compliance_Score\"] +\n",
    "    0.3 * (100 - (df_clean[\"Risk_Score\"] * 30)) -\n",
    "    0.1 * (df_clean[\"Critical_Issues\"] * 10)\n",
    ").clip(0, 100)\n",
    "\n",
    "# Drop temporary Risk_Score column\n",
    "df_clean = df_clean.drop(columns=[\"Risk_Score\"])\n",
    "\n",
    "# Save preprocessed dataset\n",
    "df_clean.to_csv(\"preprocessed_recall_data.csv\", index=False)\n",
    "print(\"Preprocessed dataset saved successfully!\")\n",
    "\n"
   ]
  }
 ],
 "metadata": {
  "kernelspec": {
   "display_name": ".venv (3.13.2)",
   "language": "python",
   "name": "python3"
  },
  "language_info": {
   "codemirror_mode": {
    "name": "ipython",
    "version": 3
   },
   "file_extension": ".py",
   "mimetype": "text/x-python",
   "name": "python",
   "nbconvert_exporter": "python",
   "pygments_lexer": "ipython3",
   "version": "3.13.2"
  }
 },
 "nbformat": 4,
 "nbformat_minor": 5
}
